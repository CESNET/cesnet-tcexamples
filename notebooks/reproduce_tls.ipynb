{
 "cells": [
  {
   "cell_type": "markdown",
   "metadata": {},
   "source": [
    "# Use pre-trained neural network to reproduce published results\n",
    "\n",
    "Paper: *\"Fine-grained TLS services classification with reject option\"*"
   ]
  },
  {
   "cell_type": "code",
   "execution_count": null,
   "metadata": {},
   "outputs": [],
   "source": [
    "import sys\n",
    "!{sys.executable} -m pip install \"torch>=1.10\" --index-url https://download.pytorch.org/whl/cu118\n",
    "!{sys.executable} -m pip install cesnet_datazoo cesnet_models tqdm"
   ]
  },
  {
   "cell_type": "markdown",
   "metadata": {},
   "source": [
    "Load a pre-trained neural network. We use the mm-CESNET-v1, which is the first version of the multi-modal CESNET architecture. The selected weights were trained on the 40th week of the CESNET-TLS22 dataset."
   ]
  },
  {
   "cell_type": "code",
   "execution_count": 2,
   "metadata": {},
   "outputs": [
    {
     "name": "stderr",
     "output_type": "stream",
     "text": [
      "Downloading: \"https://liberouter.org/datazoo/download?bucket=cesnet-models&file=mmv1_CESNET_TLS22_WEEK40.pth\" to C:\\Users\\janlu/.cache\\torch\\hub\\checkpoints\\mmv1_CESNET_TLS22_WEEK40.pth\n",
      "100%|██████████| 4.70M/4.70M [00:00<00:00, 8.75MB/s]\n"
     ]
    }
   ],
   "source": [
    "from cesnet_models.models import MM_CESNET_V1_Weights, mm_cesnet_v1\n",
    "\n",
    "pretrained_weights = MM_CESNET_V1_Weights.CESNET_TLS22_WEEK40\n",
    "model = mm_cesnet_v1(weights=pretrained_weights)"
   ]
  },
  {
   "cell_type": "markdown",
   "metadata": {},
   "source": [
    "Download and initialize a dataset class of the CESNET-TLS22 dataset.\n",
    "\n",
    "Prepare dataset configuration:\n",
    "\n",
    "- Select test period. Samples from this week will be used to test the model.\n",
    "- Use data transforms provided in the pre-trained model.\n",
    "- Select the same application classes on which the model was trained."
   ]
  },
  {
   "cell_type": "code",
   "execution_count": 5,
   "metadata": {},
   "outputs": [],
   "source": [
    "from cesnet_datazoo.datasets import CESNET_TLS22\n",
    "from cesnet_datazoo.config import DatasetConfig, AppSelection\n",
    "\n",
    "dataset = CESNET_TLS22(data_root=\"data/CESNET-TLS22/\", size=\"XS\")\n",
    "\n",
    "dataset_config = DatasetConfig(\n",
    "    dataset=dataset,\n",
    "    test_period_name=\"W-2021-41\",\n",
    "    ppi_transform=pretrained_weights.transforms[\"ppi_transform\"],\n",
    "    flowstats_transform=pretrained_weights.transforms[\"flowstats_transform\"],\n",
    "    use_tcp_features=pretrained_weights.meta[\"use_tcp_features\"],\n",
    "    apps_selection=AppSelection.FIXED,\n",
    "    apps_selection_fixed_known=pretrained_weights.meta[\"classes\"],\n",
    "    need_train_set=False,\n",
    "    return_tensors=True,)\n",
    "\n",
    "dataset.set_dataset_config_and_initialize(dataset_config)\n",
    "test_dataloader = dataset.get_test_dataloader()"
   ]
  },
  {
   "cell_type": "markdown",
   "metadata": {},
   "source": [
    "Iterate over the test dataloader and use the model to compute predictions. Use a GPU if availalable."
   ]
  },
  {
   "cell_type": "code",
   "execution_count": 6,
   "metadata": {},
   "outputs": [
    {
     "name": "stderr",
     "output_type": "stream",
     "text": [
      "100%|██████████| 2355/2355 [00:21<00:00, 111.38it/s]\n"
     ]
    }
   ],
   "source": [
    "import torch\n",
    "from torch import nn\n",
    "from torch.utils.data import DataLoader\n",
    "from tqdm import tqdm\n",
    "\n",
    "def compute_model_predictions(model: nn.Module, test_dataloader: DataLoader, device) -> tuple[torch.Tensor, torch.Tensor]:\n",
    "    model.eval()\n",
    "    y_true = []\n",
    "    y_pred = []\n",
    "    with torch.no_grad():\n",
    "        for _, batch_ppi, batch_flowstats, batch_labels in tqdm(test_dataloader, total=len(test_dataloader)):\n",
    "            batch_ppi, batch_flowstats, batch_labels = batch_ppi.to(device), batch_flowstats.to(device), batch_labels.to(device)\n",
    "            out = model((batch_ppi, batch_flowstats))\n",
    "            preds = out.argmax(dim=1)\n",
    "            y_true.append(batch_labels)\n",
    "            y_pred.append(preds)\n",
    "    y_true, y_pred = torch.cat(y_true).cpu(), torch.cat(y_pred).cpu()\n",
    "    return y_true, y_pred\n",
    "\n",
    "device = torch.device(\"cuda:0\" if torch.cuda.is_available() else \"cpu\")\n",
    "model = model.to(device)\n",
    "y_true, y_pred = compute_model_predictions(model, test_dataloader, device=device)"
   ]
  },
  {
   "cell_type": "markdown",
   "metadata": {},
   "source": [
    "Finally, compute classification accuracy."
   ]
  },
  {
   "cell_type": "code",
   "execution_count": 7,
   "metadata": {},
   "outputs": [
    {
     "name": "stdout",
     "output_type": "stream",
     "text": [
      "Accuracy: 0.9702\n"
     ]
    }
   ],
   "source": [
    "from sklearn.metrics import accuracy_score\n",
    "\n",
    "accuracy = accuracy_score(y_true, y_pred)\n",
    "print(f\"Accuracy: {accuracy:.4f}\")"
   ]
  }
 ],
 "metadata": {
  "kernelspec": {
   "display_name": "venv",
   "language": "python",
   "name": "python3"
  },
  "language_info": {
   "codemirror_mode": {
    "name": "ipython",
    "version": 3
   },
   "file_extension": ".py",
   "mimetype": "text/x-python",
   "name": "python",
   "nbconvert_exporter": "python",
   "pygments_lexer": "ipython3",
   "version": "3.10.9"
  }
 },
 "nbformat": 4,
 "nbformat_minor": 2
}
