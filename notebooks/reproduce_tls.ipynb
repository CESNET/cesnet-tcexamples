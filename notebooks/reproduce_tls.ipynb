{
 "cells": [
  {
   "cell_type": "markdown",
   "metadata": {},
   "source": [
    "# Use a pre-trained neural network to reproduce published results\n",
    "\n",
    "Paper: *\"Fine-grained TLS services classification with reject option\"*"
   ]
  },
  {
   "cell_type": "code",
   "execution_count": null,
   "metadata": {},
   "outputs": [],
   "source": [
    "import sys\n",
    "!{sys.executable} -m pip install \"torch>=1.10\" --index-url https://download.pytorch.org/whl/cu118\n",
    "!{sys.executable} -m pip install cesnet_datazoo cesnet_models tqdm"
   ]
  },
  {
   "cell_type": "markdown",
   "metadata": {},
   "source": [
    "Load a pre-trained neural network. We use the mm-CESNET-v1, which is the first version of the multi-modal CESNET architecture. The selected weights were trained on the 40th week of the CESNET-TLS22 dataset."
   ]
  },
  {
   "cell_type": "code",
   "execution_count": 1,
   "metadata": {},
   "outputs": [
    {
     "name": "stderr",
     "output_type": "stream",
     "text": [
      "Downloading: \"https://liberouter.org/datazoo/download?bucket=cesnet-models&file=mmv1_CESNET_TLS22_Week40.pth\" to models/mmv1_CESNET_TLS22_Week40.pth\n",
      "100%|██████████| 4.70M/4.70M [00:00<00:00, 6.86MB/s]\n"
     ]
    }
   ],
   "source": [
    "from cesnet_models.models import MM_CESNET_V1_Weights, mm_cesnet_v1\n",
    "\n",
    "pretrained_weights = MM_CESNET_V1_Weights.CESNET_TLS22_WEEK40\n",
    "model = mm_cesnet_v1(weights=pretrained_weights, model_dir=\"models/\")\n",
    "model.eval();"
   ]
  },
  {
   "cell_type": "markdown",
   "metadata": {},
   "source": [
    "Download and initialize a dataset class of the CESNET-TLS22 dataset.\n",
    "\n",
    "Prepare dataset configuration:\n",
    "\n",
    "- Select test period. Samples from this week will be used to test the model.\n",
    "- Use data transforms provided in the pre-trained model.\n",
    "- Select the same application classes on which the model was trained."
   ]
  },
  {
   "cell_type": "code",
   "execution_count": 2,
   "metadata": {},
   "outputs": [
    {
     "name": "stderr",
     "output_type": "stream",
     "text": [
      "[2024-04-08 12:20:44,569][cesnet_datazoo.pytables_data.indices_setup][INFO] - Processing test indices\n",
      "[2024-04-08 12:20:45,170][cesnet_datazoo.pytables_data.pytables_dataset][INFO] - Reading app column for table /flows/D20211011 took 0.54 seconds\n",
      "[2024-04-08 12:20:45,757][cesnet_datazoo.pytables_data.pytables_dataset][INFO] - Reading app column for table /flows/D20211012 took 0.59 seconds\n",
      "[2024-04-08 12:20:46,197][cesnet_datazoo.pytables_data.pytables_dataset][INFO] - Reading app column for table /flows/D20211013 took 0.44 seconds\n",
      "[2024-04-08 12:20:46,738][cesnet_datazoo.pytables_data.pytables_dataset][INFO] - Reading app column for table /flows/D20211014 took 0.54 seconds\n",
      "[2024-04-08 12:20:47,245][cesnet_datazoo.pytables_data.pytables_dataset][INFO] - Reading app column for table /flows/D20211015 took 0.51 seconds\n",
      "[2024-04-08 12:20:47,466][cesnet_datazoo.pytables_data.pytables_dataset][INFO] - Reading app column for table /flows/D20211016 took 0.22 seconds\n",
      "[2024-04-08 12:20:47,701][cesnet_datazoo.pytables_data.pytables_dataset][INFO] - Reading app column for table /flows/D20211017 took 0.23 seconds\n",
      "[2024-04-08 12:20:52,000][cesnet_datazoo.pytables_data.pytables_dataset][INFO] - Processing indices took 4.30 seconds\n"
     ]
    }
   ],
   "source": [
    "import logging\n",
    "from cesnet_datazoo.config import AppSelection, DatasetConfig\n",
    "from cesnet_datazoo.datasets import CESNET_TLS22\n",
    "\n",
    "logging.basicConfig(\n",
    "    level=logging.INFO,\n",
    "    format=\"[%(asctime)s][%(name)s][%(levelname)s] - %(message)s\")\n",
    "\n",
    "DATASET_SIZE = \"XS\" # Use the \"ORIG\" size for exact reproduction of the results\n",
    "dataset = CESNET_TLS22(data_root=\"data/CESNET-TLS22/\", size=DATASET_SIZE)\n",
    "\n",
    "dataset_config = DatasetConfig(\n",
    "    dataset=dataset,\n",
    "    test_period_name=\"W-2021-41\",\n",
    "    test_workers=2,\n",
    "    test_batch_size=16384,\n",
    "    ppi_transform=pretrained_weights.transforms[\"ppi_transform\"],\n",
    "    flowstats_transform=pretrained_weights.transforms[\"flowstats_transform\"],\n",
    "    flowstats_phist_transform=pretrained_weights.transforms[\"flowstats_phist_transform\"],\n",
    "    use_packet_histograms=pretrained_weights.meta[\"use_packet_histograms\"],\n",
    "    use_tcp_features=pretrained_weights.meta[\"use_tcp_features\"],\n",
    "    apps_selection=AppSelection.FIXED,\n",
    "    apps_selection_fixed_known=pretrained_weights.meta[\"classes\"],\n",
    "    need_train_set=False,\n",
    "    need_val_set=False,\n",
    "    return_tensors=True,)\n",
    "\n",
    "# Check that the model expects the same flow statistics features and PPI features as provided in the current configuration of the dataset\n",
    "assert dataset_config.get_flowstats_feature_names_expanded() == pretrained_weights.meta[\"flowstats_features\"]\n",
    "assert len(dataset_config.get_ppi_channels()) == pretrained_weights.meta[\"ppi_input_channels\"]\n",
    "\n",
    "dataset.set_dataset_config_and_initialize(dataset_config)\n",
    "test_dataloader = dataset.get_test_dataloader()"
   ]
  },
  {
   "cell_type": "markdown",
   "metadata": {},
   "source": [
    "Iterate over the test dataloader and use the model to compute predictions. Use a GPU if available."
   ]
  },
  {
   "cell_type": "code",
   "execution_count": 3,
   "metadata": {},
   "outputs": [
    {
     "name": "stderr",
     "output_type": "stream",
     "text": [
      "100%|██████████| 295/295 [00:33<00:00,  8.93it/s]\n"
     ]
    }
   ],
   "source": [
    "import numpy as np\n",
    "import torch\n",
    "from torch import nn\n",
    "from torch.utils.data import DataLoader\n",
    "from tqdm import tqdm\n",
    "\n",
    "def compute_model_predictions(model: nn.Module, test_dataloader: DataLoader, device) -> tuple[np. ndarray, np.ndarray]:\n",
    "    model.eval()\n",
    "    test_labels = []\n",
    "    preds = []\n",
    "    with torch.no_grad():\n",
    "        for _, batch_ppi, batch_flowstats, batch_labels in tqdm(test_dataloader, total=len(test_dataloader)):\n",
    "            batch_ppi, batch_flowstats, batch_labels = batch_ppi.to(device), batch_flowstats.to(device), batch_labels.to(device)\n",
    "            out = model((batch_ppi, batch_flowstats))\n",
    "            batch_preds = out.argmax(dim=1)\n",
    "            test_labels.append(batch_labels)\n",
    "            preds.append(batch_preds)\n",
    "    test_labels, preds = torch.cat(test_labels).cpu().numpy(), torch.cat(preds).cpu().numpy()\n",
    "    return test_labels, preds\n",
    "\n",
    "device = torch.device(\"cuda:0\" if torch.cuda.is_available() else \"cpu\")\n",
    "model = model.to(device)\n",
    "test_labels, preds = compute_model_predictions(model, test_dataloader, device=device)"
   ]
  },
  {
   "cell_type": "markdown",
   "metadata": {},
   "source": [
    "Finally, compute the classification accuracy."
   ]
  },
  {
   "cell_type": "code",
   "execution_count": 4,
   "metadata": {},
   "outputs": [
    {
     "name": "stdout",
     "output_type": "stream",
     "text": [
      "The pre-trained model achieved an accuracy of 0.97087 and a recall of 0.94707 on the test period W-2021-41 of the CESNET-TLS22-XS dataset.\n"
     ]
    }
   ],
   "source": [
    "import numpy as np\n",
    "from sklearn.metrics import accuracy_score, recall_score\n",
    "\n",
    "accuracy = accuracy_score(test_labels, preds)\n",
    "recall = recall_score(test_labels, preds, average=\"macro\", zero_division=np.nan) # type: ignore\n",
    "print(f\"The pre-trained model achieved an accuracy of {accuracy:.5f} and a recall of {recall:.5f} on the test period {dataset_config.test_period_name} of the {dataset.name} dataset.\")"
   ]
  }
 ],
 "metadata": {
  "kernelspec": {
   "display_name": "venv",
   "language": "python",
   "name": "python3"
  },
  "language_info": {
   "codemirror_mode": {
    "name": "ipython",
    "version": 3
   },
   "file_extension": ".py",
   "mimetype": "text/x-python",
   "name": "python",
   "nbconvert_exporter": "python",
   "pygments_lexer": "ipython3",
   "version": "3.10.9"
  }
 },
 "nbformat": 4,
 "nbformat_minor": 2
}
