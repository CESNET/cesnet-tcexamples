{
 "cells": [
  {
   "cell_type": "markdown",
   "metadata": {},
   "source": [
    "# Use pre-trained neural network to reproduce published results\n",
    "\n",
    "Paper: *\"Encrypted traffic classification: the QUIC case\"*"
   ]
  },
  {
   "cell_type": "code",
   "execution_count": null,
   "metadata": {},
   "outputs": [],
   "source": [
    "import sys\n",
    "!{sys.executable} -m pip install \"torch>=1.10\" --index-url https://download.pytorch.org/whl/cu118\n",
    "!{sys.executable} -m pip install cesnet_datazoo cesnet_models tqdm"
   ]
  },
  {
   "cell_type": "markdown",
   "metadata": {},
   "source": [
    "Load a pre-trained neural network. We use the mm-CESNET-v2, which is the second version of the multi-modal CESNET architecture. The selected weights were trained on the 44th week of the CESNET-QUIC22 dataset."
   ]
  },
  {
   "cell_type": "code",
   "execution_count": 1,
   "metadata": {},
   "outputs": [
    {
     "name": "stderr",
     "output_type": "stream",
     "text": [
      "Downloading: \"https://liberouter.org/datazoo/download?bucket=cesnet-models&file=mmv2_CESNET_QUIC22_Week44.pth\" to C:\\Users\\janlu/.cache\\torch\\hub\\checkpoints\\mmv2_CESNET_QUIC22_Week44.pth\n",
      "100%|██████████| 8.68M/8.68M [00:01<00:00, 7.66MB/s]\n"
     ]
    }
   ],
   "source": [
    "from cesnet_models.models import MM_CESNET_V2_Weights, mm_cesnet_v2\n",
    "\n",
    "pretrained_weights = MM_CESNET_V2_Weights.CESNET_QUIC22_Week44\n",
    "model = mm_cesnet_v2(weights=pretrained_weights)"
   ]
  },
  {
   "cell_type": "markdown",
   "metadata": {},
   "source": [
    "Download and initialize a dataset class of the CESNET-QUIC22 dataset.\n",
    "\n",
    "Prepare dataset configuration:\n",
    "\n",
    "- Select test period. Samples from this week will be used to test the model.\n",
    "- Use data transforms provided in the pre-trained model.\n",
    "- Select the same application classes on which the model was trained."
   ]
  },
  {
   "cell_type": "code",
   "execution_count": 3,
   "metadata": {},
   "outputs": [],
   "source": [
    "from cesnet_datazoo.datasets import CESNET_QUIC22\n",
    "from cesnet_datazoo.config import DatasetConfig, AppSelection\n",
    "\n",
    "dataset = CESNET_QUIC22(data_root=\"data/CESNET-QUIC22/\", size=\"XS\")\n",
    "\n",
    "dataset_config = DatasetConfig(\n",
    "    dataset=dataset,\n",
    "    test_period_name=\"W-2022-45\",\n",
    "    ppi_transform=pretrained_weights.transforms[\"ppi_transform\"],\n",
    "    flowstats_transform=pretrained_weights.transforms[\"flowstats_transform\"],\n",
    "    flowstats_phist_transform=pretrained_weights.transforms[\"flowstats_phist_transform\"],\n",
    "    use_packet_histograms=pretrained_weights.meta[\"use_packet_histograms\"],\n",
    "    apps_selection=AppSelection.FIXED,\n",
    "    apps_selection_fixed_known=pretrained_weights.meta[\"classes\"],\n",
    "    need_train_set=False,\n",
    "    return_tensors=True,)\n",
    "\n",
    "dataset.set_dataset_config_and_initialize(dataset_config)\n",
    "test_dataloader = dataset.get_test_dataloader()"
   ]
  },
  {
   "cell_type": "markdown",
   "metadata": {},
   "source": [
    "Iterate over the test dataloader and use the model to compute predictions. Use a GPU if availalable."
   ]
  },
  {
   "cell_type": "code",
   "execution_count": 4,
   "metadata": {},
   "outputs": [
    {
     "name": "stderr",
     "output_type": "stream",
     "text": [
      "100%|██████████| 1247/1247 [00:36<00:00, 33.99it/s]\n"
     ]
    }
   ],
   "source": [
    "import torch\n",
    "from torch import nn\n",
    "from torch.utils.data import DataLoader\n",
    "from tqdm import tqdm\n",
    "\n",
    "def compute_model_predictions(model: nn.Module, test_dataloader: DataLoader, device) -> tuple[torch.Tensor, torch.Tensor]:\n",
    "    model.eval()\n",
    "    y_true = []\n",
    "    y_pred = []\n",
    "    with torch.no_grad():\n",
    "        for _, batch_ppi, batch_flowstats, batch_labels in tqdm(test_dataloader, total=len(test_dataloader)):\n",
    "            batch_ppi, batch_flowstats, batch_labels = batch_ppi.to(device), batch_flowstats.to(device), batch_labels.to(device)\n",
    "            out = model((batch_ppi, batch_flowstats))\n",
    "            preds = out.argmax(dim=1)\n",
    "            y_true.append(batch_labels)\n",
    "            y_pred.append(preds)\n",
    "    y_true, y_pred = torch.cat(y_true).cpu(), torch.cat(y_pred).cpu()\n",
    "    return y_true, y_pred\n",
    "\n",
    "device = torch.device(\"cuda:0\" if torch.cuda.is_available() else \"cpu\")\n",
    "model = model.to(device)\n",
    "y_true, y_pred = compute_model_predictions(model, test_dataloader, device=device)"
   ]
  },
  {
   "cell_type": "markdown",
   "metadata": {},
   "source": [
    "Finally, compute classification accuracy."
   ]
  },
  {
   "cell_type": "code",
   "execution_count": 11,
   "metadata": {},
   "outputs": [
    {
     "name": "stdout",
     "output_type": "stream",
     "text": [
      "Accuracy: 0.8429\n"
     ]
    }
   ],
   "source": [
    "from sklearn.metrics import accuracy_score\n",
    "\n",
    "accuracy = accuracy_score(y_true, y_pred)\n",
    "print(f\"Accuracy: {accuracy:.4f}\")"
   ]
  }
 ],
 "metadata": {
  "kernelspec": {
   "display_name": "venv",
   "language": "python",
   "name": "python3"
  },
  "language_info": {
   "codemirror_mode": {
    "name": "ipython",
    "version": 3
   },
   "file_extension": ".py",
   "mimetype": "text/x-python",
   "name": "python",
   "nbconvert_exporter": "python",
   "pygments_lexer": "ipython3",
   "version": "3.10.9"
  }
 },
 "nbformat": 4,
 "nbformat_minor": 2
}
