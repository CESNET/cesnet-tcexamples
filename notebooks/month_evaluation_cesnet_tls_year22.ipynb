{
 "cells": [
  {
   "cell_type": "markdown",
   "metadata": {},
   "source": [
    "# Example training and evaluation of LightGBM model using the CESNET-TLS-Year22 dataset"
   ]
  },
  {
   "cell_type": "code",
   "execution_count": null,
   "metadata": {},
   "outputs": [],
   "source": [
    "import sys\n",
    "!{sys.executable} -m pip install cesnet-datazoo lightgbm scikit-learn matplotlib seaborn"
   ]
  },
  {
   "cell_type": "markdown",
   "metadata": {},
   "source": [
    "Download the CESNET-TLS-Year22 dataset if it is not already downloaded, enable logging, and set configuration."
   ]
  },
  {
   "cell_type": "code",
   "execution_count": 5,
   "metadata": {},
   "outputs": [
    {
     "name": "stderr",
     "output_type": "stream",
     "text": [
      "[2024-07-17 17:08:41,693][cesnet_datazoo.pytables_data.indices_setup][INFO] - Processing train indices\n",
      "[2024-07-17 17:08:41,992][cesnet_datazoo.pytables_data.pytables_dataset][INFO] - Reading app and SNI columns for table /flows/D20220601 took 0.08 seconds\n",
      "[2024-07-17 17:08:42,075][cesnet_datazoo.pytables_data.pytables_dataset][INFO] - Reading app and SNI columns for table /flows/D20220602 took 0.08 seconds\n",
      "[2024-07-17 17:08:42,149][cesnet_datazoo.pytables_data.pytables_dataset][INFO] - Reading app and SNI columns for table /flows/D20220603 took 0.07 seconds\n",
      "[2024-07-17 17:08:42,171][cesnet_datazoo.pytables_data.pytables_dataset][INFO] - Reading app and SNI columns for table /flows/D20220604 took 0.02 seconds\n",
      "[2024-07-17 17:08:42,196][cesnet_datazoo.pytables_data.pytables_dataset][INFO] - Reading app and SNI columns for table /flows/D20220605 took 0.02 seconds\n",
      "[2024-07-17 17:08:42,276][cesnet_datazoo.pytables_data.pytables_dataset][INFO] - Reading app and SNI columns for table /flows/D20220606 took 0.08 seconds\n",
      "[2024-07-17 17:08:42,365][cesnet_datazoo.pytables_data.pytables_dataset][INFO] - Reading app and SNI columns for table /flows/D20220607 took 0.09 seconds\n",
      "[2024-07-17 17:08:42,451][cesnet_datazoo.pytables_data.pytables_dataset][INFO] - Reading app and SNI columns for table /flows/D20220608 took 0.09 seconds\n",
      "[2024-07-17 17:08:42,537][cesnet_datazoo.pytables_data.pytables_dataset][INFO] - Reading app and SNI columns for table /flows/D20220609 took 0.08 seconds\n",
      "[2024-07-17 17:08:42,619][cesnet_datazoo.pytables_data.pytables_dataset][INFO] - Reading app and SNI columns for table /flows/D20220610 took 0.08 seconds\n",
      "[2024-07-17 17:08:42,642][cesnet_datazoo.pytables_data.pytables_dataset][INFO] - Reading app and SNI columns for table /flows/D20220611 took 0.02 seconds\n",
      "[2024-07-17 17:08:42,666][cesnet_datazoo.pytables_data.pytables_dataset][INFO] - Reading app and SNI columns for table /flows/D20220612 took 0.02 seconds\n",
      "[2024-07-17 17:08:42,754][cesnet_datazoo.pytables_data.pytables_dataset][INFO] - Reading app and SNI columns for table /flows/D20220613 took 0.09 seconds\n",
      "[2024-07-17 17:08:42,840][cesnet_datazoo.pytables_data.pytables_dataset][INFO] - Reading app and SNI columns for table /flows/D20220614 took 0.09 seconds\n",
      "[2024-07-17 17:08:42,924][cesnet_datazoo.pytables_data.pytables_dataset][INFO] - Reading app and SNI columns for table /flows/D20220615 took 0.08 seconds\n",
      "[2024-07-17 17:08:42,996][cesnet_datazoo.pytables_data.pytables_dataset][INFO] - Reading app and SNI columns for table /flows/D20220616 took 0.07 seconds\n",
      "[2024-07-17 17:08:43,067][cesnet_datazoo.pytables_data.pytables_dataset][INFO] - Reading app and SNI columns for table /flows/D20220617 took 0.07 seconds\n",
      "[2024-07-17 17:08:43,090][cesnet_datazoo.pytables_data.pytables_dataset][INFO] - Reading app and SNI columns for table /flows/D20220618 took 0.02 seconds\n",
      "[2024-07-17 17:08:43,116][cesnet_datazoo.pytables_data.pytables_dataset][INFO] - Reading app and SNI columns for table /flows/D20220619 took 0.02 seconds\n",
      "[2024-07-17 17:08:43,205][cesnet_datazoo.pytables_data.pytables_dataset][INFO] - Reading app and SNI columns for table /flows/D20220620 took 0.09 seconds\n",
      "[2024-07-17 17:08:43,294][cesnet_datazoo.pytables_data.pytables_dataset][INFO] - Reading app and SNI columns for table /flows/D20220621 took 0.09 seconds\n",
      "[2024-07-17 17:08:43,382][cesnet_datazoo.pytables_data.pytables_dataset][INFO] - Reading app and SNI columns for table /flows/D20220622 took 0.09 seconds\n",
      "[2024-07-17 17:08:43,463][cesnet_datazoo.pytables_data.pytables_dataset][INFO] - Reading app and SNI columns for table /flows/D20220623 took 0.08 seconds\n",
      "[2024-07-17 17:08:43,530][cesnet_datazoo.pytables_data.pytables_dataset][INFO] - Reading app and SNI columns for table /flows/D20220624 took 0.07 seconds\n",
      "[2024-07-17 17:08:43,553][cesnet_datazoo.pytables_data.pytables_dataset][INFO] - Reading app and SNI columns for table /flows/D20220625 took 0.02 seconds\n",
      "[2024-07-17 17:08:43,575][cesnet_datazoo.pytables_data.pytables_dataset][INFO] - Reading app and SNI columns for table /flows/D20220626 took 0.02 seconds\n",
      "[2024-07-17 17:08:43,650][cesnet_datazoo.pytables_data.pytables_dataset][INFO] - Reading app and SNI columns for table /flows/D20220627 took 0.07 seconds\n",
      "[2024-07-17 17:08:43,723][cesnet_datazoo.pytables_data.pytables_dataset][INFO] - Reading app and SNI columns for table /flows/D20220628 took 0.07 seconds\n",
      "[2024-07-17 17:08:43,784][cesnet_datazoo.pytables_data.pytables_dataset][INFO] - Reading app and SNI columns for table /flows/D20220629 took 0.06 seconds\n",
      "[2024-07-17 17:08:43,838][cesnet_datazoo.pytables_data.pytables_dataset][INFO] - Found applications with less than 100 train samples: ['adobe-search', 'cesnet-filesender', 'cesnet-perun', 'ctu-kosapi', 'mcafee-ccs', 'redmine', 'sumava-camdata']. Disabling these applications\n",
      "[2024-07-17 17:08:43,866][cesnet_datazoo.pytables_data.pytables_dataset][INFO] - Selected 173 known applications and 0 unknown applications\n",
      "[2024-07-17 17:08:47,574][cesnet_datazoo.pytables_data.indices_setup][INFO] - Processing indices took 5.88 seconds\n"
     ]
    }
   ],
   "source": [
    "import logging\n",
    "from cesnet_datazoo.datasets import CESNET_TLS_Year22\n",
    "from cesnet_datazoo.config import DatasetConfig, ValidationApproach\n",
    "\n",
    "logging.basicConfig(\n",
    "    level=logging.INFO,\n",
    "    format=\"[%(asctime)s][%(name)s][%(levelname)s] - %(message)s\")\n",
    "\n",
    "dataset = CESNET_TLS_Year22(data_root=\"data/CESNET-TLS-Year22/\", size=\"XS\")\n",
    "common_params = {\n",
    "    \"dataset\": dataset,\n",
    "    \"train_period_name\": \"M-2022-6\",\n",
    "    \"val_approach\": ValidationApproach.SPLIT_FROM_TRAIN,\n",
    "    \"train_val_split_fraction\": 0.2,\n",
    "}\n",
    "dataset_config = DatasetConfig(**common_params)\n",
    "dataset.set_dataset_config_and_initialize(dataset_config)"
   ]
  },
  {
   "cell_type": "markdown",
   "metadata": {},
   "source": [
    "Load training and validation dataframes and create LightGBM datasets."
   ]
  },
  {
   "cell_type": "code",
   "execution_count": 6,
   "metadata": {},
   "outputs": [
    {
     "name": "stdout",
     "output_type": "stream",
     "text": [
      "Loading data from dataloader\n"
     ]
    },
    {
     "name": "stderr",
     "output_type": "stream",
     "text": [
      "100%|██████████| 3867/3867 [00:22<00:00, 172.12it/s] \n"
     ]
    },
    {
     "name": "stdout",
     "output_type": "stream",
     "text": [
      "Loading data from dataloader\n"
     ]
    },
    {
     "name": "stderr",
     "output_type": "stream",
     "text": [
      "100%|██████████| 91/91 [00:07<00:00, 12.89it/s]\n"
     ]
    },
    {
     "name": "stdout",
     "output_type": "stream",
     "text": [
      "Loaded 742336 train samples\n",
      "Loaded 185585 validation samples\n"
     ]
    }
   ],
   "source": [
    "import lightgbm as lgb\n",
    "from cesnet_datazoo.constants import APP_COLUMN\n",
    "\n",
    "feature_names = dataset_config.get_feature_names(flatten_ppi=True)\n",
    "train_df = dataset.get_train_df(flatten_ppi=True)\n",
    "val_df = dataset.get_val_df(flatten_ppi=True)\n",
    "train_labels = train_df.pop(APP_COLUMN)\n",
    "val_labels = val_df.pop(APP_COLUMN)\n",
    "\n",
    "lgb_train_dataset = lgb.Dataset(data=train_df, label=train_labels, feature_name=feature_names)\n",
    "lgb_val_dataset = lgb.Dataset(data=val_df, label=val_labels, feature_name=feature_names)\n",
    "\n",
    "print(f\"Loaded {len(train_df)} train samples\")\n",
    "print(f\"Loaded {len(val_df)} validation samples\")"
   ]
  },
  {
   "cell_type": "markdown",
   "metadata": {},
   "source": [
    "Train the LightGBM model for 20 iterations."
   ]
  },
  {
   "cell_type": "code",
   "execution_count": 7,
   "metadata": {},
   "outputs": [
    {
     "name": "stdout",
     "output_type": "stream",
     "text": [
      "[1]\tvalid_0's multi_error: 0.212911\n",
      "[2]\tvalid_0's multi_error: 0.165396\n",
      "[3]\tvalid_0's multi_error: 0.138583\n",
      "[4]\tvalid_0's multi_error: 0.120209\n",
      "[5]\tvalid_0's multi_error: 0.108473\n",
      "[6]\tvalid_0's multi_error: 0.099868\n",
      "[7]\tvalid_0's multi_error: 0.0932026\n",
      "[8]\tvalid_0's multi_error: 0.0881106\n",
      "[9]\tvalid_0's multi_error: 0.0835628\n",
      "[10]\tvalid_0's multi_error: 0.0798394\n",
      "[11]\tvalid_0's multi_error: 0.0764286\n",
      "[12]\tvalid_0's multi_error: 0.0737721\n",
      "[13]\tvalid_0's multi_error: 0.0709217\n",
      "[14]\tvalid_0's multi_error: 0.0685292\n",
      "[15]\tvalid_0's multi_error: 0.0665302\n",
      "[16]\tvalid_0's multi_error: 0.0645203\n",
      "[17]\tvalid_0's multi_error: 0.0628068\n",
      "[18]\tvalid_0's multi_error: 0.0611903\n",
      "[19]\tvalid_0's multi_error: 0.0597462\n",
      "[20]\tvalid_0's multi_error: 0.0584799\n",
      "The best validation score is 0.058\n"
     ]
    }
   ],
   "source": [
    "lgb_params = {\n",
    "    \"task\": \"train\",\n",
    "    \"objective\": \"multiclass\",\n",
    "    \"num_class\": dataset.get_num_classes(),\n",
    "    \"metric\": \"multi_error\",\n",
    "    \"num_leaves\": 320,\n",
    "    \"min_data_in_leaf\": 20,\n",
    "    \"feature_fraction\": 0.8,\n",
    "    \"lambda_l2\": 4,\n",
    "    \"verbose\": -1,\n",
    "}\n",
    "\n",
    "validation_metrics = {}\n",
    "lgb_model = lgb.train(\n",
    "    params=lgb_params,\n",
    "    num_boost_round=20,\n",
    "    train_set=lgb_train_dataset,\n",
    "    valid_sets=[lgb_val_dataset],\n",
    "    callbacks=[lgb.log_evaluation()]\n",
    ")\n",
    "best_score = lgb_model.best_score[\"valid_0\"][\"multi_error\"]\n",
    "print(f\"The best validation score is {best_score:.3f}\")"
   ]
  },
  {
   "cell_type": "markdown",
   "metadata": {},
   "source": [
    "## Per-month evaluation\n",
    "\n",
    "Training of the model was done on samples from the month of June of CESNET-TLS-Year22. Now, let's evaluate the model on the following three months.\n",
    "\n",
    "For each month:\n",
    "\n",
    "1. Create ``DatasetConfig`` and set the month as ``test_period_name``.\n",
    "2. Load test dataframe.\n",
    "3. Predict applications with the trained LightGBM model.\n",
    "4. Compute classification accuracy."
   ]
  },
  {
   "cell_type": "code",
   "execution_count": 9,
   "metadata": {},
   "outputs": [
    {
     "name": "stdout",
     "output_type": "stream",
     "text": [
      "\n",
      "Testing on period M-2022-7\n",
      "Loading data from dataloader\n"
     ]
    },
    {
     "name": "stderr",
     "output_type": "stream",
     "text": [
      "100%|██████████| 292/292 [00:07<00:00, 39.02it/s] \n"
     ]
    },
    {
     "name": "stdout",
     "output_type": "stream",
     "text": [
      "Loaded 596841 test samples\n",
      "Classification accuracy for M-2022-7 is 0.892\n",
      "\n",
      "Testing on period M-2022-8\n",
      "Loading data from dataloader\n"
     ]
    },
    {
     "name": "stderr",
     "output_type": "stream",
     "text": [
      "100%|██████████| 302/302 [00:07<00:00, 39.76it/s] \n"
     ]
    },
    {
     "name": "stdout",
     "output_type": "stream",
     "text": [
      "Loaded 618472 test samples\n",
      "Classification accuracy for M-2022-8 is 0.852\n",
      "\n",
      "Testing on period M-2022-9\n",
      "Loading data from dataloader\n"
     ]
    },
    {
     "name": "stderr",
     "output_type": "stream",
     "text": [
      "100%|██████████| 371/371 [00:08<00:00, 45.54it/s] \n"
     ]
    },
    {
     "name": "stdout",
     "output_type": "stream",
     "text": [
      "Loaded 758490 test samples\n"
     ]
    },
    {
     "name": "stderr",
     "output_type": "stream",
     "text": [
      "[2024-07-17 17:17:32,542][matplotlib.category][INFO] - Using categorical units to plot a list of strings that are all parsable as floats or dates. If these strings should be plotted as numbers, cast to the appropriate data type before plotting.\n",
      "[2024-07-17 17:17:32,548][matplotlib.category][INFO] - Using categorical units to plot a list of strings that are all parsable as floats or dates. If these strings should be plotted as numbers, cast to the appropriate data type before plotting.\n"
     ]
    },
    {
     "name": "stdout",
     "output_type": "stream",
     "text": [
      "Classification accuracy for M-2022-9 is 0.807\n"
     ]
    },
    {
     "data": {
      "image/png": "[encoded data removed]",
      "text/plain": [
       "<Figure size 640x480 with 1 Axes>"
      ]
     },
     "metadata": {},
     "output_type": "display_data"
    }
   ],
   "source": [
    "from sklearn.metrics import accuracy_score\n",
    "import seaborn\n",
    "\n",
    "test_periods = [\"M-2022-7\", \"M-2022-8\", \"M-2022-9\"]\n",
    "per_month_acc = []\n",
    "for period in test_periods:\n",
    "    print(f\"\\nTesting on period {period}\")\n",
    "    dataset_config = DatasetConfig(**common_params, test_period_name=period)\n",
    "    dataset.set_dataset_config_and_initialize(dataset_config)\n",
    "    test_df = dataset.get_test_df(flatten_ppi=True)\n",
    "    print(f\"Loaded {len(test_df)} test samples\")\n",
    "    true_labels = test_df.pop(APP_COLUMN)\n",
    "    preds = lgb_model.predict(test_df).argmax(axis=1)\n",
    "    acc = accuracy_score(true_labels, preds)\n",
    "    per_month_acc.append(acc)\n",
    "    print(f\"Classification accuracy for {period} is {acc:.3f}\")\n",
    "\n",
    "seaborn.barplot(y=per_month_acc, x=test_periods).set(title=\"Per-month classification performance\", ylabel=\"Accuracy\");"
   ]
  }
 ],
 "metadata": {
  "kernelspec": {
   "display_name": ".venv",
   "language": "python",
   "name": "python3"
  },
  "language_info": {
   "codemirror_mode": {
    "name": "ipython",
    "version": 3
   },
   "file_extension": ".py",
   "mimetype": "text/x-python",
   "name": "python",
   "nbconvert_exporter": "python",
   "pygments_lexer": "ipython3",
   "version": "3.10.9"
  },
  "orig_nbformat": 4
 },
 "nbformat": 4,
 "nbformat_minor": 2
}
